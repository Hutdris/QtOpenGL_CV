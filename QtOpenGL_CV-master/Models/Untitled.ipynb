{
 "cells": [
  {
   "cell_type": "code",
   "execution_count": 1,
   "metadata": {
    "collapsed": false
   },
   "outputs": [
    {
     "name": "stdout",
     "output_type": "stream",
     "text": [
      "Requirement already satisfied: numpy-stl in c:\\users\\louis\\anaconda3\\lib\\site-packages\n",
      "Requirement already satisfied: nine in c:\\users\\louis\\anaconda3\\lib\\site-packages (from numpy-stl)\n",
      "Requirement already satisfied: numpy in c:\\users\\louis\\anaconda3\\lib\\site-packages (from numpy-stl)\n",
      "Requirement already satisfied: python-utils>=1.6.2 in c:\\users\\louis\\anaconda3\\lib\\site-packages (from numpy-stl)\n",
      "Requirement already satisfied: six in c:\\users\\louis\\anaconda3\\lib\\site-packages (from python-utils>=1.6.2->numpy-stl)\n"
     ]
    }
   ],
   "source": []
  },
  {
   "cell_type": "code",
   "execution_count": 2,
   "metadata": {
    "collapsed": true
   },
   "outputs": [],
   "source": [
    "import stl\n",
    "import numpy as np\n",
    "from mpl_toolkits import mplot3d\n",
    "from matplotlib import pyplot\n",
    "from sklearn.cluster import KMeans\n",
    "import collections\n",
    "import math"
   ]
  },
  {
   "cell_type": "code",
   "execution_count": 8,
   "metadata": {
    "collapsed": false
   },
   "outputs": [],
   "source": [
    "upper = stl.mesh.Mesh.from_file('upper.stl')\n",
    "center = stl.mesh.Mesh.from_file('center.stl')\n",
    "lower = stl.mesh.Mesh.from_file('lower.stl')\n",
    "porsche = stl.mesh.Mesh.from_file('porsche.stl')\n",
    "mesh_list = [upper, lower, center, porsche]"
   ]
  },
  {
   "cell_type": "code",
   "execution_count": 9,
   "metadata": {
    "collapsed": false
   },
   "outputs": [],
   "source": [
    "def mesh_info(mesh):\n",
    "    volume, cog, inertia = mesh.get_mass_properties()\n",
    "    print(\"Volume                                  = {0}\".format(volume))\n",
    "    print(\"Position of the center of gravity (COG) = {0}\".format(cog))\n",
    "    print(\"Inertia matrix at expressed at the COG  = {0}\".format(inertia[0,:]))\n",
    "    print(\"                                          {0}\".format(inertia[1,:]))\n",
    "    print(\"                                          {0}\".format(inertia[2,:]))\n"
   ]
  },
  {
   "cell_type": "code",
   "execution_count": 10,
   "metadata": {
    "collapsed": false
   },
   "outputs": [
    {
     "name": "stdout",
     "output_type": "stream",
     "text": [
      "Volume                                  = 17505.212826922758\n",
      "Position of the center of gravity (COG) = [-4.11188649  1.14166148 -1.64187906]\n",
      "Inertia matrix at expressed at the COG  = [ 3722607.92730567   720796.81880517  -151951.00275387]\n",
      "                                          [  720796.81880517  5115989.32436042    78490.08406334]\n",
      "                                          [ -151951.00275387    78490.08406334  9337689.74422334]\n",
      "Volume                                  = 17505.212826922758\n",
      "Position of the center of gravity (COG) = [-4.11188649  1.14166148 -1.64187906]\n",
      "Inertia matrix at expressed at the COG  = [ 3722607.92730567   720796.81880517  -151951.00275387]\n",
      "                                          [  720796.81880517  5115989.32436042    78490.08406334]\n",
      "                                          [ -151951.00275387    78490.08406334  9337689.74422334]\n",
      "Volume                                  = 43136.822344634464\n",
      "Position of the center of gravity (COG) = [ 2.95544145 -3.23646552 -1.05451609]\n",
      "Inertia matrix at expressed at the COG  = [ 5026920.56318966 -2566310.11742138   242086.41923602]\n",
      "                                          [-2566310.11742138  8889954.64729552  1266296.62063637]\n",
      "                                          [   242086.41923602   1266296.62063637  14960814.35901281]\n",
      "Volume                                  = 61478.69335803214\n",
      "Position of the center of gravity (COG) = [ 53.6215371   34.99991169  20.65931685]\n",
      "Inertia matrix at expressed at the COG  = [  8.80320125e+06   8.69184363e+00  -1.02670949e+06]\n",
      "                                          [  8.69184363e+00   3.87657786e+07   6.48140398e+01]\n",
      "                                          [ -1.02670949e+06   6.48140398e+01   4.30098620e+07]\n"
     ]
    }
   ],
   "source": [
    "for mesh in mesh_list:\n",
    "    mesh_info(mesh)"
   ]
  },
  {
   "cell_type": "code",
   "execution_count": 7,
   "metadata": {
    "collapsed": false
   },
   "outputs": [],
   "source": [
    "mesh_list[0].rotate([0.0, 0.5, 0.0], math.radians(10))\n",
    "\n",
    "mesh_list[0].save(\"rot_porsche.stl\")"
   ]
  },
  {
   "cell_type": "code",
   "execution_count": null,
   "metadata": {
    "collapsed": true
   },
   "outputs": [],
   "source": []
  }
 ],
 "metadata": {
  "kernelspec": {
   "display_name": "Python 3",
   "language": "python",
   "name": "python3"
  },
  "language_info": {
   "codemirror_mode": {
    "name": "ipython",
    "version": 3
   },
   "file_extension": ".py",
   "mimetype": "text/x-python",
   "name": "python",
   "nbconvert_exporter": "python",
   "pygments_lexer": "ipython3",
   "version": "3.6.0"
  }
 },
 "nbformat": 4,
 "nbformat_minor": 2
}
