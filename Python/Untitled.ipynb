{
 "cells": [
  {
   "cell_type": "code",
   "execution_count": 153,
   "metadata": {
    "collapsed": true
   },
   "outputs": [],
   "source": [
    "class point():\n",
    "    def __init__(self, _x, _y, _z):\n",
    "        self.x = _x\n",
    "        self.y = _y\n",
    "        self.z = _z\n",
    "    def __repr__(self):\n",
    "        return \"{}, {}, {}\\n\".format(self.x, self.y, self.z)"
   ]
  },
  {
   "cell_type": "code",
   "execution_count": 138,
   "metadata": {
    "collapsed": false
   },
   "outputs": [],
   "source": [
    "def load_RT(file_dir):\n",
    "    with open(file_dir) as fr:\n",
    "        mass = []\n",
    "        while (True):\n",
    "            x = fr.readline().split(',')[-1][:-2]\n",
    "            if len(x) ==0:\n",
    "                 break\n",
    "            x = float(x)\n",
    "            y = float(fr.readline().split(',')[-1][:-2])\n",
    "            z = float(fr.readline().split(',')[-1][:-2])\n",
    "            w = fr.readline()\n",
    "            mass.append(point(x, y, z))\n",
    "    return mass"
   ]
  },
  {
   "cell_type": "code",
   "execution_count": 139,
   "metadata": {
    "collapsed": false
   },
   "outputs": [],
   "source": [
    "T = load_RT(\"../result/RT.txt\")\n",
    "draw_mass([T])"
   ]
  },
  {
   "cell_type": "code",
   "execution_count": 158,
   "metadata": {
    "collapsed": false
   },
   "outputs": [
    {
     "name": "stdout",
     "output_type": "stream",
     "text": [
      "0 A a\n",
      "1 B b\n",
      "2 C c\n"
     ]
    }
   ],
   "source": [
    "for i, j, k in zip(range(3), \"ABC\", \"abc\"):\n",
    "    print(i, j, k)"
   ]
  },
  {
   "cell_type": "code",
   "execution_count": 159,
   "metadata": {
    "collapsed": false
   },
   "outputs": [
    {
     "name": "stdout",
     "output_type": "stream",
     "text": [
      "[27.109806, -102.61539, 441.75348\n",
      ", 35.838154, -63.545013, 438.08365\n",
      ", 87.497818, -90.326485, 426.4075\n",
      ", 135.18806, -51.859661, 430.50943\n",
      ", 157.48531, -91.41256, 433.88629\n",
      ", 24.293854, -12.352788, 477.73425\n",
      ", 42.538883, -10.719898, 484.04221\n",
      ", 22.441788, 7.1571927, 477.5582\n",
      ", 40.398, 8.70571, 483.971\n",
      "]\n"
     ]
    }
   ],
   "source": [
    "points = []\n",
    "with open(\"../result/tri_points.txt\") as fr:\n",
    "    try:\n",
    "        while(True):\n",
    "\n",
    "                xs = fr.readline()[1:-4].split(',')\n",
    "                if len(xs) < 5:\n",
    "                    break\n",
    "                ys = fr.readline()[:-4].split(',')\n",
    "                zs = fr.readline()[:-4].split(',')\n",
    "                ws = fr.readline().split(',')\n",
    "                points.append([point(float(x), float(y), float(z)) \\\n",
    "                               for x, y, z in zip(xs, ys, zs)])\n",
    "    except:\n",
    "        print(\"end of file\")\n",
    "\n",
    "print(points[0])"
   ]
  },
  {
   "cell_type": "code",
   "execution_count": 160,
   "metadata": {
    "collapsed": false
   },
   "outputs": [
    {
     "name": "stdout",
     "output_type": "stream",
     "text": [
      "[27.109806, -102.61539, 441.75348\n",
      ", 35.838154, -63.545013, 438.08365\n",
      ", 87.497818, -90.326485, 426.4075\n",
      ", 135.18806, -51.859661, 430.50943\n",
      ", 157.48531, -91.41256, 433.88629\n",
      ", 24.293854, -12.352788, 477.73425\n",
      ", 42.538883, -10.719898, 484.04221\n",
      ", 22.441788, 7.1571927, 477.5582\n",
      ", 40.398, 8.70571, 483.971\n",
      "]\n"
     ]
    }
   ],
   "source": [
    "print(points[0])\n",
    "mass = []\n",
    "pts = []\n",
    "for i in range(5, 5+4):\n",
    "    pts.append([p[i] for p in points])\n",
    "draw_mass(pts)\n",
    "for p in points:\n",
    "    _x = sum([pt.x for pt in p[-4:]])\n",
    "    _y = sum([pt.y for pt in p[-4:]])\n",
    "    _z = sum([pt.z for pt in p[-4:]])\n",
    "    mass.append(point(_x, _y, _z))"
   ]
  },
  {
   "cell_type": "code",
   "execution_count": null,
   "metadata": {
    "collapsed": false
   },
   "outputs": [],
   "source": []
  },
  {
   "cell_type": "code",
   "execution_count": 146,
   "metadata": {
    "collapsed": false
   },
   "outputs": [],
   "source": [
    "import matplotlib.pyplot as plt\n",
    "from mpl_toolkits.mplot3d import Axes3D\n",
    "fig = plt.figure()\n",
    "ax = fig.add_subplot(111, projection='3d')\n",
    "x = [pt.x for pt in mass]\n",
    "y = [pt.y for pt in mass]\n",
    "z = [pt.z for pt in mass]\n",
    "ax.plot(x, y, z, label=\"parametric curve\")\n",
    "ax.legend()\n",
    "plt.show()"
   ]
  },
  {
   "cell_type": "code",
   "execution_count": 140,
   "metadata": {
    "collapsed": false
   },
   "outputs": [],
   "source": [
    "def load_keypts(file_dir):\n",
    "    points = []\n",
    "    with open(file_dir) as fr:\n",
    "        try:\n",
    "            while(True):\n",
    "                line =fr.readline().strip().split(',')\n",
    "                if (len(line) < 5):\n",
    "                    break\n",
    "                pts = [point(int(pt.split()[0]), int(pt.split()[1]), 0) \\\n",
    "                             for pt in line[:-1]]\n",
    "                points.append(pts)\n",
    "\n",
    "        except:\n",
    "            print(line)\n",
    "    mass = []\n",
    "    for p in points:\n",
    "        _x = sum([pt.x for pt in p[-4:]])\n",
    "        _y = sum([pt.y for pt in p[-4:]])\n",
    "        _z = sum([pt.z for pt in p[-4:]])\n",
    "        mass.append(point(_x, _y, _z))    \n",
    "    return mass\n"
   ]
  },
  {
   "cell_type": "code",
   "execution_count": 141,
   "metadata": {
    "collapsed": false
   },
   "outputs": [],
   "source": [
    "mass1 = load_keypts(\"../result/cam1.txt\")\n",
    "mass2 = load_keypts(\"../result/cam2.txt\")"
   ]
  },
  {
   "cell_type": "code",
   "execution_count": 142,
   "metadata": {
    "collapsed": false
   },
   "outputs": [],
   "source": [
    "import matplotlib.pyplot as plt\n",
    "from mpl_toolkits.mplot3d import Axes3D\n",
    "\n",
    "def draw_mass(list_mass):\n",
    "    %matplotlib tk\n",
    "    fig = plt.figure()\n",
    "    ax = fig.add_subplot(111, projection='3d')\n",
    "    for idx, mass in enumerate(list_mass):\n",
    "        x = [pt.x for pt in mass]\n",
    "        y = [pt.y for pt in mass]\n",
    "        z = [pt.z for pt in mass]\n",
    "        ax.plot(x, y, z, label=idx)\n",
    "        ax.legend()\n",
    "    plt.show()\n",
    "    "
   ]
  },
  {
   "cell_type": "code",
   "execution_count": 143,
   "metadata": {
    "collapsed": false
   },
   "outputs": [],
   "source": [
    "draw_mass([mass1, mass2])"
   ]
  },
  {
   "cell_type": "code",
   "execution_count": null,
   "metadata": {
    "collapsed": true
   },
   "outputs": [],
   "source": []
  }
 ],
 "metadata": {
  "kernelspec": {
   "display_name": "Python 3",
   "language": "python",
   "name": "python3"
  },
  "language_info": {
   "codemirror_mode": {
    "name": "ipython",
    "version": 3
   },
   "file_extension": ".py",
   "mimetype": "text/x-python",
   "name": "python",
   "nbconvert_exporter": "python",
   "pygments_lexer": "ipython3",
   "version": "3.6.0"
  }
 },
 "nbformat": 4,
 "nbformat_minor": 2
}
