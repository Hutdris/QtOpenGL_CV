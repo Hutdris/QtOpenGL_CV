{
 "cells": [
  {
   "cell_type": "code",
   "execution_count": 1,
   "metadata": {
    "collapsed": false
   },
   "outputs": [
    {
     "name": "stdout",
     "output_type": "stream",
     "text": [
      "Requirement already satisfied: numpy-stl in c:\\users\\louis\\anaconda3\\lib\\site-packages\n",
      "Requirement already satisfied: nine in c:\\users\\louis\\anaconda3\\lib\\site-packages (from numpy-stl)\n",
      "Requirement already satisfied: numpy in c:\\users\\louis\\anaconda3\\lib\\site-packages (from numpy-stl)\n",
      "Requirement already satisfied: python-utils>=1.6.2 in c:\\users\\louis\\anaconda3\\lib\\site-packages (from numpy-stl)\n",
      "Requirement already satisfied: six in c:\\users\\louis\\anaconda3\\lib\\site-packages (from python-utils>=1.6.2->numpy-stl)\n"
     ]
    }
   ],
   "source": []
  },
  {
   "cell_type": "code",
   "execution_count": 26,
   "metadata": {
    "collapsed": true
   },
   "outputs": [],
   "source": [
    "import stl\n",
    "import numpy as np\n",
    "from mpl_toolkits import mplot3d\n",
    "from matplotlib import pyplot\n",
    "\n",
    "from sklearn.cluster import KMeans\n",
    "import collections\n",
    "import math\n",
    "import numpy.linalg as la\n",
    " \n"
   ]
  },
  {
   "cell_type": "code",
   "execution_count": 43,
   "metadata": {
    "collapsed": false
   },
   "outputs": [],
   "source": [
    "upper = stl.mesh.Mesh.from_file('upper.stl')\n",
    "center = stl.mesh.Mesh.from_file('center.stl')\n",
    "lower = stl.mesh.Mesh.from_file('lower.stl')\n",
    "porsche = stl.mesh.Mesh.from_file('porsche.stl')\n",
    "mesh_list = [upper, lower, center, porsche]\n",
    "ang_list = []"
   ]
  },
  {
   "cell_type": "code",
   "execution_count": 8,
   "metadata": {
    "collapsed": false
   },
   "outputs": [],
   "source": [
    "def mesh_info(mesh):\n",
    "    volume, cog, inertia = mesh.get_mass_properties()\n",
    "    print(\"Volume                                  = {0}\".format(volume))\n",
    "    print(\"Position of the center of gravity (COG) = {0}\".format(cog))\n",
    "    print(\"Inertia matrix at expressed at the COG  = {0}\".format(inertia[0,:]))\n",
    "    print(\"                                          {0}\".format(inertia[1,:]))\n",
    "    print(\"                                          {0}\".format(inertia[2,:]))\n",
    "\n",
    "def py_ang(v1, v2):\n",
    "    \"\"\" Returns the angle in radians between vectors 'v1' and 'v2'    \"\"\"\n",
    "    cosang = np.dot(v1, v2)\n",
    "    sinang = la.norm(np.cross(v1, v2))\n",
    "    return np.arctan2(sinang, cosang)"
   ]
  },
  {
   "cell_type": "code",
   "execution_count": 44,
   "metadata": {
    "collapsed": false
   },
   "outputs": [
    {
     "data": {
      "text/plain": [
       "'\\nprint(upper.points[0])\\nprint(np.average(upper.v0[0]))\\nprint(upper.v0[:6])\\n'"
      ]
     },
     "execution_count": 44,
     "metadata": {},
     "output_type": "execute_result"
    }
   ],
   "source": [
    "def mesh_angle(mesh):\n",
    "    vol, cog, inertial = mesh.get_mass_properties()\n",
    "    tri_vecs = []\n",
    "    angles = []\n",
    "    #np.average(upper.v0[i], upper.v1[i], upper.v2[i])\n",
    "    for p1, p2, p3, normal in zip(mesh.v0, mesh.v1, mesh.v2, mesh.normals):\n",
    "        angles.append(py_ang(((p1+p2+p3)/3-cog), normal))\n",
    "    return angles\n",
    "for mesh in mesh_list:\n",
    "    ang_list.append(mesh_angle(mesh))\n",
    "\"\"\"\n",
    "print(upper.points[0])\n",
    "print(np.average(upper.v0[0]))\n",
    "print(upper.v0[:6])\n",
    "\"\"\""
   ]
  },
  {
   "cell_type": "code",
   "execution_count": 45,
   "metadata": {
    "collapsed": false
   },
   "outputs": [],
   "source": [
    "def plt_angle(angles):\n",
    "    angs = np.array(angles)\n",
    "    pyplot.scatter(range(angs.size), np.sort(angs))\n",
    "    pyplot.show()\n",
    "plt_angle(ang_list[2])"
   ]
  },
  {
   "cell_type": "code",
   "execution_count": 28,
   "metadata": {
    "collapsed": false
   },
   "outputs": [
    {
     "name": "stdout",
     "output_type": "stream",
     "text": [
      "1.57079632679\n"
     ]
    }
   ],
   "source": [
    "mesh_list[0].rotate([0.0, 0.5, 0.0], math.radians(10))\n",
    "\n",
    "mesh_list[0].save(\"rot_porsche.stl\")\n",
    "print(py_ang(np.array([0, 0, 1]), np.array([1, 0, 0])))"
   ]
  },
  {
   "cell_type": "code",
   "execution_count": null,
   "metadata": {
    "collapsed": true
   },
   "outputs": [],
   "source": []
  }
 ],
 "metadata": {
  "anaconda-cloud": {},
  "kernelspec": {
   "display_name": "Python [Root]",
   "language": "python",
   "name": "Python [Root]"
  },
  "language_info": {
   "codemirror_mode": {
    "name": "ipython",
    "version": 3
   },
   "file_extension": ".py",
   "mimetype": "text/x-python",
   "name": "python",
   "nbconvert_exporter": "python",
   "pygments_lexer": "ipython3",
   "version": "3.5.1"
  }
 },
 "nbformat": 4,
 "nbformat_minor": 2
}
